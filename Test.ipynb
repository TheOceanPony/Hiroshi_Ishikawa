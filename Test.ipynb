{
 "cells": [
  {
   "cell_type": "code",
   "execution_count": 1,
   "metadata": {},
   "outputs": [],
   "source": [
    "import copy\n",
    "import numpy as np\n",
    "\n",
    "from numpy.random import shuffle\n",
    "import matplotlib.pyplot as plt\n",
    "from tqdm import tqdm\n",
    "\n",
    "import funcs as f\n",
    "import utils as utl"
   ]
  },
  {
   "cell_type": "code",
   "execution_count": 2,
   "metadata": {},
   "outputs": [],
   "source": [
    "def show(G):\n",
    "    \n",
    "    tmp = 'X | '\n",
    "    for v in V:\n",
    "        tmp += ' ' + v + ' '\n",
    "    \n",
    "    print(tmp)\n",
    "    print('')\n",
    "    \n",
    "    for row in range(len(V)):\n",
    "        \n",
    "        tmp = V[row] + ' | '\n",
    "        for col in range(Vsize):\n",
    "            \n",
    "            if G[row][col] == np.inf:\n",
    "                tmp +=  ' i '\n",
    "            else:\n",
    "                w = int(G[row][col])\n",
    "                if w == 0:\n",
    "                    tmp +=  \" - \"\n",
    "                else:\n",
    "                    if w < 10 : tmp +=  ' ' + str(w) + ' '\n",
    "                    if 10 <= w < 100 : tmp +=  ' ' + str(w)\n",
    "\n",
    "            \n",
    "        print(tmp)"
   ]
  },
  {
   "cell_type": "markdown",
   "metadata": {},
   "source": [
    "---"
   ]
  },
  {
   "cell_type": "markdown",
   "metadata": {},
   "source": [
    "![title](test_graph.png)"
   ]
  },
  {
   "cell_type": "markdown",
   "metadata": {},
   "source": [
    "## Graph init"
   ]
  },
  {
   "cell_type": "code",
   "execution_count": 3,
   "metadata": {},
   "outputs": [],
   "source": [
    "# |V| = |{S,E}| + |T|*|K| = 2 + 4*2 = 10\n",
    "Vsize = 10\n",
    "Esize = 22\n",
    "\n",
    "#     0    1    2    3    4    5    6    7    8    9\n",
    "V = ['S', 'a', 'b', 'c', 'd', 'e', 'f', 'g', 'h', 'E']"
   ]
  },
  {
   "cell_type": "code",
   "execution_count": 4,
   "metadata": {},
   "outputs": [],
   "source": [
    "g = np.zeros((Vsize,Vsize), dtype=np.float32)\n",
    "betta = 20\n",
    "# S\n",
    "g[0][1] = np.inf\n",
    "g[0][5] = np.inf\n",
    "\n",
    "# a\n",
    "g[1][2] = 10 #q_t(k)\n",
    "g[1][5] = betta\n",
    "\n",
    "# b\n",
    "g[2][1] = np.inf\n",
    "g[2][3] = 5  #q_t(k)\n",
    "g[2][6] = betta \n",
    "\n",
    "#c\n",
    "g[3][2] = np.inf\n",
    "g[3][4] = 10  #q_t(k)\n",
    "g[3][7] = betta \n",
    "\n",
    "#d\n",
    "g[4][3] = np.inf\n",
    "g[4][9] = 8  #q_t(k)\n",
    "g[4][8] = betta \n",
    "\n",
    "\n",
    "#e\n",
    "g[5][6] = 6  #q_t(k)\n",
    "g[5][1] = betta \n",
    "\n",
    "#f\n",
    "g[6][5] = np.inf\n",
    "g[6][7] = 8  #q_t(k)\n",
    "g[6][2] = betta \n",
    "\n",
    "#g\n",
    "g[7][6] = np.inf\n",
    "g[7][8] = 3  #q_t(k)\n",
    "g[7][3] = betta \n",
    "\n",
    "#h\n",
    "g[8][7] = np.inf\n",
    "g[8][9] = 5  #q_t(k)\n",
    "g[8][4] = betta "
   ]
  },
  {
   "cell_type": "code",
   "execution_count": 5,
   "metadata": {},
   "outputs": [
    {
     "name": "stdout",
     "output_type": "stream",
     "text": [
      "X |  S  a  b  c  d  e  f  g  h  E \n",
      "\n",
      "S |  -  i  -  -  -  i  -  -  -  - \n",
      "a |  -  -  10 -  -  20 -  -  -  - \n",
      "b |  -  i  -  5  -  -  20 -  -  - \n",
      "c |  -  -  i  -  10 -  -  20 -  - \n",
      "d |  -  -  -  i  -  -  -  -  20 8 \n",
      "e |  -  20 -  -  -  -  6  -  -  - \n",
      "f |  -  -  20 -  -  i  -  8  -  - \n",
      "g |  -  -  -  20 -  -  i  -  3  - \n",
      "h |  -  -  -  -  20 -  -  i  -  5 \n",
      "E |  -  -  -  -  -  -  -  -  -  - \n"
     ]
    }
   ],
   "source": [
    "show(g)"
   ]
  },
  {
   "cell_type": "code",
   "execution_count": 6,
   "metadata": {},
   "outputs": [
    {
     "data": {
      "text/plain": [
       "24"
      ]
     },
     "execution_count": 6,
     "metadata": {},
     "output_type": "execute_result"
    }
   ],
   "source": [
    "g[g > 0].size # Esize"
   ]
  },
  {
   "cell_type": "markdown",
   "metadata": {},
   "source": [
    "---"
   ]
  },
  {
   "cell_type": "code",
   "execution_count": 7,
   "metadata": {},
   "outputs": [],
   "source": [
    "#@njit\n",
    "def iteration(G, F, V):\n",
    "    \n",
    "    Prev = np.full(Vsize, -1) # Prev node\n",
    "    Q = [0] # Queue\n",
    "    cursor = 0 # instead of popping elements of of the Q\n",
    "\n",
    "    while cursor < Vsize:\n",
    "\n",
    "        v_curr = Q[cursor]\n",
    "        for v_ind, capacity in enumerate( G[v_curr] ):\n",
    "            if F[v_curr, v_ind] < capacity and Prev[v_ind] == -1 and v_ind != v_curr:\n",
    "                Q.append(v_ind)\n",
    "                Prev[v_ind] = v_curr\n",
    "\n",
    "        cursor += 1\n",
    "        if cursor >= len(Q) : break\n",
    "\n",
    "    # path reconstruction\n",
    "    v_curr = Vsize - 1\n",
    "    path = [v_curr]\n",
    "    while True:\n",
    "        v_prev = Prev[v_curr]\n",
    "        v_curr = v_prev\n",
    "        if v_curr == -1 : break\n",
    "        path.append(v_curr)\n",
    "\n",
    "    path = path[::-1]\n",
    "    \n",
    "    \n",
    "    \n",
    "    # path bottleneck\n",
    "    bottleneck = np.inf # float('inf') doesn't work with numba\n",
    "    for i in range(len(path) - 1):\n",
    "        v_curr = path[i]\n",
    "        v_next = path[i+1]\n",
    "\n",
    "        local_w = G[v_curr, v_next] - F_[v_curr, v_next]\n",
    "        if local_w < bottleneck: \n",
    "            bottleneck = local_w\n",
    "    if bottleneck == np.inf : return F, True\n",
    "    \n",
    "    print(\"path: \", path, \" | bottleneck: \", bottleneck)\n",
    "    \n",
    "    # path flow update\n",
    "    for i in range(len(path) - 1):\n",
    "        v_curr = path[i]\n",
    "        v_next = path[i+1]\n",
    "\n",
    "        F[v_curr, v_next] += bottleneck\n",
    "        \n",
    "    \n",
    "    #print('')\n",
    "    #print('----- New iteration -----')\n",
    "    #show_path(path, V)\n",
    "    #print('Bottleneck is: ', bottleneck)\n",
    "    \n",
    "    return F, False"
   ]
  },
  {
   "cell_type": "code",
   "execution_count": 8,
   "metadata": {},
   "outputs": [],
   "source": [
    "Vsize = g.shape[0]\n",
    "F_ = np.zeros((Vsize, Vsize)) # Current flow"
   ]
  },
  {
   "cell_type": "code",
   "execution_count": 9,
   "metadata": {},
   "outputs": [
    {
     "name": "stdout",
     "output_type": "stream",
     "text": [
      "X |  S  a  b  c  d  e  f  g  h  E \n",
      "\n",
      "S |  -  i  -  -  -  i  -  -  -  - \n",
      "a |  -  -  10 -  -  20 -  -  -  - \n",
      "b |  -  i  -  5  -  -  20 -  -  - \n",
      "c |  -  -  i  -  10 -  -  20 -  - \n",
      "d |  -  -  -  i  -  -  -  -  20 8 \n",
      "e |  -  20 -  -  -  -  6  -  -  - \n",
      "f |  -  -  20 -  -  i  -  8  -  - \n",
      "g |  -  -  -  20 -  -  i  -  3  - \n",
      "h |  -  -  -  -  20 -  -  i  -  5 \n",
      "E |  -  -  -  -  -  -  -  -  -  - \n"
     ]
    }
   ],
   "source": [
    "show(g)"
   ]
  },
  {
   "cell_type": "code",
   "execution_count": 10,
   "metadata": {},
   "outputs": [
    {
     "name": "stdout",
     "output_type": "stream",
     "text": [
      "path:  [0, 1, 2, 3, 4, 9]  | bottleneck:  5.0\n",
      "path:  [0, 5, 6, 7, 8, 9]  | bottleneck:  3.0\n",
      "path:  [0, 5, 6, 7, 3, 4, 9]  | bottleneck:  3.0\n",
      "path:  [0, 1, 2, 6, 7, 3, 4, 8, 9]  | bottleneck:  2.0\n"
     ]
    }
   ],
   "source": [
    "while True:\n",
    "        F_, end = iteration(g, F_, V)\n",
    "        if end : break"
   ]
  },
  {
   "cell_type": "code",
   "execution_count": 11,
   "metadata": {},
   "outputs": [
    {
     "name": "stdout",
     "output_type": "stream",
     "text": [
      "X |  S  a  b  c  d  e  f  g  h  E \n",
      "\n",
      "S |  -  7  -  -  -  6  -  -  -  - \n",
      "a |  -  -  7  -  -  -  -  -  -  - \n",
      "b |  -  -  -  5  -  -  2  -  -  - \n",
      "c |  -  -  -  -  10 -  -  -  -  - \n",
      "d |  -  -  -  -  -  -  -  -  2  8 \n",
      "e |  -  -  -  -  -  -  6  -  -  - \n",
      "f |  -  -  -  -  -  -  -  8  -  - \n",
      "g |  -  -  -  5  -  -  -  -  3  - \n",
      "h |  -  -  -  -  -  -  -  -  -  5 \n",
      "E |  -  -  -  -  -  -  -  -  -  - \n",
      "MaxFlow is:  13.0\n"
     ]
    }
   ],
   "source": [
    "show(F_)\n",
    "print('MaxFlow is: ', sum(F_[:, -1]))"
   ]
  },
  {
   "cell_type": "raw",
   "metadata": {},
   "source": [
    "F_, end = iteration(g, F_, V)\n",
    "show(F_), end"
   ]
  },
  {
   "cell_type": "markdown",
   "metadata": {},
   "source": [
    "---"
   ]
  },
  {
   "cell_type": "markdown",
   "metadata": {},
   "source": [
    "## MinCut"
   ]
  },
  {
   "cell_type": "code",
   "execution_count": 12,
   "metadata": {},
   "outputs": [],
   "source": [
    "# BFS\n",
    "Prev = np.full(Vsize, -1) # Prev node\n",
    "Q = [9] # Queue\n",
    "cursor = 0 # instead of popping elements of of the Q\n",
    "\n",
    "while True:\n",
    "\n",
    "    v_curr = Q[cursor]\n",
    "    for v_ind, capacity in enumerate( g[v_curr] ):\n",
    "        if 0 < F_[v_curr][v_ind] < capacity and Prev[v_ind] == -1 and v_ind != v_curr:\n",
    "            Q.append(v_ind)\n",
    "            Prev[v_ind] = v_curr\n",
    "    \n",
    "    cursor += 1\n",
    "    if cursor >= len(Q) : break"
   ]
  },
  {
   "cell_type": "code",
   "execution_count": 13,
   "metadata": {},
   "outputs": [
    {
     "data": {
      "text/plain": [
       "[9]"
      ]
     },
     "execution_count": 13,
     "metadata": {},
     "output_type": "execute_result"
    }
   ],
   "source": [
    "# S a b c d x y z g E\n",
    "# 0 1 2 3 4 5 6 7 8 9\n",
    "Q"
   ]
  },
  {
   "cell_type": "code",
   "execution_count": 14,
   "metadata": {},
   "outputs": [
    {
     "data": {
      "text/plain": [
       "['E']"
      ]
     },
     "execution_count": 14,
     "metadata": {},
     "output_type": "execute_result"
    }
   ],
   "source": [
    "res = []\n",
    "for v in Q:\n",
    "    res.append(V[v])\n",
    "res"
   ]
  },
  {
   "cell_type": "code",
   "execution_count": null,
   "metadata": {},
   "outputs": [],
   "source": []
  }
 ],
 "metadata": {
  "kernelspec": {
   "display_name": "Python 3",
   "language": "python",
   "name": "python3"
  },
  "language_info": {
   "codemirror_mode": {
    "name": "ipython",
    "version": 3
   },
   "file_extension": ".py",
   "mimetype": "text/x-python",
   "name": "python",
   "nbconvert_exporter": "python",
   "pygments_lexer": "ipython3",
   "version": "3.8.0"
  }
 },
 "nbformat": 4,
 "nbformat_minor": 4
}
