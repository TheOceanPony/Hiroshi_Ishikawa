{
 "cells": [
  {
   "cell_type": "markdown",
   "metadata": {},
   "source": [
    "# Lab 3 Hiroshi-Ishikawa "
   ]
  },
  {
   "cell_type": "code",
   "execution_count": 1,
   "metadata": {},
   "outputs": [],
   "source": [
    "import copy\n",
    "import numpy as np\n",
    "\n",
    "from numpy.random import shuffle\n",
    "from numba import njit\n",
    "import matplotlib.pyplot as plt\n",
    "\n",
    "from time import time\n",
    "from tqdm import tqdm\n",
    "\n",
    "import funcs as f\n",
    "import utils as utl"
   ]
  },
  {
   "cell_type": "markdown",
   "metadata": {},
   "source": [
    "---"
   ]
  },
  {
   "cell_type": "markdown",
   "metadata": {},
   "source": [
    "## Input"
   ]
  },
  {
   "cell_type": "code",
   "execution_count": 2,
   "metadata": {},
   "outputs": [
    {
     "name": "stdout",
     "output_type": "stream",
     "text": [
      "Input size:  (3, 3)\n",
      "dtype: uint8 | max: 184 | min: 55\n"
     ]
    },
    {
     "data": {
      "image/png": "[encoded data removed]",
      "text/plain": [
       "<Figure size 432x288 with 1 Axes>"
      ]
     },
     "metadata": {
      "needs_background": "light"
     },
     "output_type": "display_data"
    }
   ],
   "source": [
    "C = np.array([ 0, 128, 255])\n",
    "binary_penalty = 70\n",
    "shape = (3,3)\n",
    "img = utl.import_img(\"input.png\", bw=True, newshape=shape)"
   ]
  },
  {
   "cell_type": "code",
   "execution_count": 3,
   "metadata": {},
   "outputs": [],
   "source": [
    "@njit\n",
    "def init_g(img, C, betta):\n",
    "    \n",
    "    h, w = img.shape[:2]\n",
    "    img = img.flatten()\n",
    "    csize = C.size\n",
    "\n",
    "    g = np.zeros((h*w*csize + 2, h*w*csize + 2), dtype = np.float32)\n",
    "\n",
    "    \n",
    "    \n",
    "    # S -> first layer\n",
    "    g[0, 1:h*w] = np.inf\n",
    "\n",
    "    # last layer -> E\n",
    "    g[-h*w-1:-1, -1] = np.abs(C[-1] - img)\n",
    "\n",
    "    # neighbours\n",
    "    for k in range(C.size):\n",
    "        for i in range(h):\n",
    "            for j in range(w):\n",
    "                \n",
    "                index = j + i*w + 1 + k*w*h\n",
    "                pixel_color = img[j + i*w]\n",
    "                \n",
    "                \n",
    "                # left\n",
    "                if j > 0:\n",
    "                    left = j - 1 + i*w + 1 + k*w*h\n",
    "                    g[index, left] = betta\n",
    "                    \n",
    "                # right\n",
    "                if j < w - 1:\n",
    "                    right = j + 1 + i*w + 1 + k*w*h\n",
    "                    g[index, right] = betta\n",
    "\n",
    "                # up\n",
    "                if i > 0:\n",
    "                    up = j + (i-1)*w + 1 + k*w*h\n",
    "                    g[index, up] = betta\n",
    "\n",
    "                # down\n",
    "                if i < h - 1:\n",
    "                    down = j + (i+1)*w + 1 + k*w*h\n",
    "                    g[index, down] = betta\n",
    "\n",
    "                # upper layer\n",
    "                if k < 2:\n",
    "                    up_l = j + i*w + 1 + (k+1)*w*h\n",
    "                    g[index, up_l] = np.abs(C[k] - pixel_color)\n",
    "\n",
    "                # bottom layer\n",
    "                if k > 0:\n",
    "                    up_l = j + i*w + 1 + (k-1)*w*h\n",
    "                    g[index, up_l] = np.inf           \n",
    "                \n",
    "    return g\n",
    "\n",
    "#print(f\"k: {k} | i,j: {i,j} | index: {index} | pixel_ind: {j+i*w}\")"
   ]
  },
  {
   "cell_type": "code",
   "execution_count": 4,
   "metadata": {},
   "outputs": [
    {
     "data": {
      "text/plain": [
       "<matplotlib.image.AxesImage at 0x1e0a8bd54f0>"
      ]
     },
     "execution_count": 4,
     "metadata": {},
     "output_type": "execute_result"
    },
    {
     "data": {
      "image/png": "[encoded data removed]",
      "text/plain": [
       "<Figure size 720x720 with 1 Axes>"
      ]
     },
     "metadata": {
      "needs_background": "light"
     },
     "output_type": "display_data"
    }
   ],
   "source": [
    "g = init_g(img, C, betta=20)\n",
    "plt.subplots(figsize=(10, 10))\n",
    "plt.imshow(g, cmap='gray')"
   ]
  },
  {
   "cell_type": "markdown",
   "metadata": {},
   "source": [
    "---"
   ]
  },
  {
   "cell_type": "code",
   "execution_count": 5,
   "metadata": {},
   "outputs": [],
   "source": [
    "#@njit\n",
    "def iteration(G, F):\n",
    "    \n",
    "    Prev = np.full(Vsize, -1) # Prev node\n",
    "    Q = [0] # Queue\n",
    "    cursor = 0 # instead of popping elements of of the Q\n",
    "\n",
    "    while cursor < Vsize:\n",
    "\n",
    "        v_curr = Q[cursor]\n",
    "        for v_ind, capacity in enumerate( G[v_curr] ):\n",
    "            if F[v_curr, v_ind] < capacity and Prev[v_ind] == -1 and v_ind != v_curr:\n",
    "                Q.append(v_ind)\n",
    "                Prev[v_ind] = v_curr\n",
    "\n",
    "        cursor += 1\n",
    "        if cursor >= len(Q) : break\n",
    "\n",
    "    # path reconstruction\n",
    "    v_curr = Vsize - 1\n",
    "    path = [v_curr]\n",
    "    while True:\n",
    "        v_prev = Prev[v_curr]\n",
    "        v_curr = v_prev\n",
    "        if v_curr == -1 : break\n",
    "        path.append(v_curr)\n",
    "\n",
    "    path = path[::-1]\n",
    "    \n",
    "    \n",
    "    \n",
    "    # path bottleneck\n",
    "    bottleneck = np.inf # float('inf') doesn't work with numba\n",
    "    for i in range(len(path) - 1):\n",
    "        v_curr = path[i]\n",
    "        v_next = path[i+1]\n",
    "\n",
    "        local_w = G[v_curr, v_next] - F_[v_curr, v_next]\n",
    "        if local_w < bottleneck: \n",
    "            bottleneck = local_w\n",
    "    if bottleneck == np.inf : return F, True\n",
    "    \n",
    "    print(\"path: \", path, \" | bottleneck: \", bottleneck)\n",
    "    \n",
    "    # path flow update\n",
    "    for i in range(len(path) - 1):\n",
    "        v_curr = path[i]\n",
    "        v_next = path[i+1]\n",
    "\n",
    "        F[v_curr, v_next] += bottleneck\n",
    "        \n",
    "    \n",
    "    #print('')\n",
    "    #print('----- New iteration -----')\n",
    "    #show_path(path, V)\n",
    "    #print('Bottleneck is: ', bottleneck)\n",
    "    \n",
    "    return F, False"
   ]
  },
  {
   "cell_type": "code",
   "execution_count": 6,
   "metadata": {},
   "outputs": [],
   "source": [
    "h, w = img.shape[:2]\n",
    "csize = C.size\n",
    "Vsize = h*w*csize + 2\n",
    "\n",
    "F_ = np.zeros((Vsize, Vsize)) # Current flow"
   ]
  },
  {
   "cell_type": "code",
   "execution_count": 7,
   "metadata": {},
   "outputs": [
    {
     "name": "stdout",
     "output_type": "stream",
     "text": [
      "path:  [0, 1, 10, 19, 28]  | bottleneck:  29.0\n",
      "path:  [0, 2, 11, 20, 28]  | bottleneck:  56.0\n",
      "path:  [0, 3, 12, 21, 28]  | bottleneck:  22.0\n",
      "path:  [0, 4, 13, 22, 28]  | bottleneck:  26.0\n",
      "path:  [0, 5, 14, 23, 28]  | bottleneck:  29.0\n",
      "path:  [0, 6, 15, 24, 28]  | bottleneck:  31.0\n",
      "path:  [0, 7, 16, 25, 28]  | bottleneck:  55.0\n",
      "path:  [0, 8, 17, 26, 28]  | bottleneck:  4.0\n",
      "path:  [0, 4, 13, 16, 25, 28]  | bottleneck:  18.0\n",
      "path:  [0, 6, 9, 18, 27, 28]  | bottleneck:  3.0\n",
      "MaxFlow is:  273.0\n"
     ]
    }
   ],
   "source": [
    "while True:\n",
    "        F_, end = iteration(g, F_)\n",
    "        if end : break\n",
    "print('MaxFlow is: ', sum(F_[:, -1]))"
   ]
  },
  {
   "cell_type": "code",
   "execution_count": null,
   "metadata": {},
   "outputs": [],
   "source": []
  }
 ],
 "metadata": {
  "kernelspec": {
   "display_name": "Python 3",
   "language": "python",
   "name": "python3"
  },
  "language_info": {
   "codemirror_mode": {
    "name": "ipython",
    "version": 3
   },
   "file_extension": ".py",
   "mimetype": "text/x-python",
   "name": "python",
   "nbconvert_exporter": "python",
   "pygments_lexer": "ipython3",
   "version": "3.8.0"
  }
 },
 "nbformat": 4,
 "nbformat_minor": 4
}
