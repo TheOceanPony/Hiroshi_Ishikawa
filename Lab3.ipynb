{
 "cells": [
  {
   "cell_type": "markdown",
   "metadata": {},
   "source": [
    "# Lab 3 Hiroshi-Ishikawa "
   ]
  },
  {
   "cell_type": "code",
   "execution_count": 1,
   "metadata": {},
   "outputs": [],
   "source": [
    "import copy\n",
    "import numpy as np\n",
    "\n",
    "from numpy.random import shuffle\n",
    "from numba import njit\n",
    "import matplotlib.pyplot as plt\n",
    "\n",
    "from time import time\n",
    "from tqdm import tqdm\n",
    "\n",
    "import funcs as f\n",
    "import utils as utl"
   ]
  },
  {
   "cell_type": "markdown",
   "metadata": {},
   "source": [
    "---"
   ]
  },
  {
   "cell_type": "markdown",
   "metadata": {},
   "source": [
    "## Input"
   ]
  },
  {
   "cell_type": "code",
   "execution_count": 2,
   "metadata": {},
   "outputs": [
    {
     "name": "stdout",
     "output_type": "stream",
     "text": [
      "Input size:  (3, 3)\n",
      "dtype: uint8 | max: 188 | min: 51\n"
     ]
    },
    {
     "data": {
      "image/png": "[encoded data removed]",
      "text/plain": [
       "<Figure size 432x288 with 1 Axes>"
      ]
     },
     "metadata": {
      "needs_background": "light"
     },
     "output_type": "display_data"
    }
   ],
   "source": [
    "C = np.array([ 0, 128, 255])\n",
    "binary_penalty = 70\n",
    "shape = (3,3)\n",
    "img = utl.import_img(\"input.png\", bw=True, newshape=shape)"
   ]
  },
  {
   "cell_type": "code",
   "execution_count": 3,
   "metadata": {},
   "outputs": [],
   "source": [
    "@njit\n",
    "def init_g(img, C, betta):\n",
    "    \n",
    "    height, width = img.shape[:2]\n",
    "    img = img.flatten()\n",
    "    csize = C.size\n",
    "    g = np.zeros((height*width*csize + 2, height*width*csize + 2), dtype = np.float32)\n",
    "\n",
    "    for i in range(width):\n",
    "        if i==0 or i ==width-1:\n",
    "            for j in range(height):\n",
    "                if j==0 or j == height-1:\n",
    "                    # 4 corner point\n",
    "                    for k in range(csize):\n",
    "                        index = (i * height + j) * csize + k\n",
    "                        # horizontal\n",
    "                        h_index = ((int(i == 0) * (i + 1) + int(i == width - 1) * (i - 1)) * height + j) * csize + k\n",
    "                        g[index, h_index] = betta\n",
    "                        # vertical\n",
    "                        v_index = (i * height + int(j == 0) * (j + 1) + int(j == height - 1) * (j - 1)) * csize + k\n",
    "                        g[index, v_index] = betta\n",
    "                        if(k == csize-1):\n",
    "                            up_index = -1\n",
    "                            g[index, up_index] = np.abs(C[k] - img[j + i*width])\n",
    "                        else:\n",
    "                            up_index = index+1\n",
    "                            g[index, up_index] = np.abs(C[k] - img[j + i*width])\n",
    "                        if k!=0:\n",
    "                            down_index = index-1\n",
    "                            g[index,down_index] = np.inf\n",
    "                else:\n",
    "                    # left and right edges without 4 corners\n",
    "                    for k in range(csize):\n",
    "                        index = (i * height + j) * csize + k\n",
    "                        # horizontal\n",
    "                        h_index = ((int(i == 0) * (i + 1) + int(i == width - 1) * (i - 1)) * height + j) * csize + k\n",
    "                        g[index, h_index] = betta\n",
    "                        # vertical up\n",
    "                        v_up_index = (i * height + j - 1) * csize + k\n",
    "                        g[index, v_up_index] = betta\n",
    "                        # vertical down\n",
    "                        v_down_index = (i * height + j + 1) * csize + k\n",
    "                        g[index, v_down_index] = betta\n",
    "                        if(k == csize-1):\n",
    "                            up_index = -1\n",
    "                            g[index, up_index] = np.abs(C[k] - img[j + i*width])\n",
    "                        else:\n",
    "                            up_index = index+1\n",
    "                            g[index, up_index] = np.abs(C[k] - img[j + i*width])\n",
    "                        if k!=0:\n",
    "                            down_index = index-1\n",
    "                            g[index,down_index] = np.inf\n",
    "        else:\n",
    "            for j in range(height):\n",
    "                if j==0 or j == height-1:\n",
    "                    for k in range(csize):\n",
    "                        index = (i * height + j) * csize + k\n",
    "                        # horizontal left\n",
    "                        h_left_index = ((i - 1) * height + j) * csize + k\n",
    "                        g[index, h_left_index] = betta\n",
    "                        # horizontal right\n",
    "                        h_right_index = ((i + 1) * height + j) * csize + k\n",
    "                        g[index, h_right_index] = betta\n",
    "                        # vertical up\n",
    "                        v_up_index = (i * height + j - 1) * csize + k\n",
    "                        g[index, v_up_index] = betta\n",
    "                        # vertical down\n",
    "                        v_down_index = (i * height + j + 1) * csize + k\n",
    "                        g[index, v_down_index] = betta\n",
    "                        if(k == csize-1):\n",
    "                            up_index = -1\n",
    "                            g[index, up_index] = np.abs(C[k] - img[j + i*width])\n",
    "                        else:\n",
    "                            up_index = index+1\n",
    "                            g[index, up_index] = np.abs(C[k] - img[j + i*width])\n",
    "                        if k!=0:\n",
    "                            down_index = index-1\n",
    "                            g[index,down_index] = np.inf\n",
    "                else:\n",
    "                    for k in range(csize):\n",
    "                        index = (i * height + j) * csize + k\n",
    "                        # horizontal left\n",
    "                        h_left_index = ((i - 1) * height + j) * csize + k\n",
    "                        g[index, h_left_index] = betta\n",
    "                        # horizontal right\n",
    "                        h_right_index = ((i + 1) * height + j) * csize + k\n",
    "                        g[index, h_right_index] = betta\n",
    "                        # vertical up\n",
    "                        v_up_index = (i * height + j - 1) * csize + k\n",
    "                        g[index, v_up_index] = betta\n",
    "                        # vertical down\n",
    "                        v_down_index = (i * height + j + 1) * csize + k\n",
    "                        g[index, v_down_index] = betta\n",
    "                        if(k == csize-1):\n",
    "                            up_index = -1\n",
    "                            g[index, up_index] = np.abs(C[k] - img[j + i*width])\n",
    "                        else:\n",
    "                            up_index = index+1\n",
    "                            g[index, up_index] = np.abs(C[k] - img[j + i*width])\n",
    "                        if k!=0:\n",
    "                            down_index = index-1\n",
    "                            g[index,down_index] = np.inf\n",
    "    #  source\n",
    "    for i in range(width):\n",
    "        for j in range(height):\n",
    "            index = (i * height + j)*csize\n",
    "            g[-2, index] = np.inf\n",
    "    return g\n",
    "\n",
    "#print(f\"k: {k} | i,j: {i,j} | index: {index} | pixel_ind: {j+i*w}\")"
   ]
  },
  {
   "cell_type": "code",
   "execution_count": 4,
   "metadata": {},
   "outputs": [
    {
     "data": {
      "text/plain": [
       "<matplotlib.image.AxesImage at 0x16f070b5fd0>"
      ]
     },
     "execution_count": 4,
     "metadata": {},
     "output_type": "execute_result"
    },
    {
     "data": {
      "image/png": "[encoded data removed]",
      "text/plain": [
       "<Figure size 720x720 with 1 Axes>"
      ]
     },
     "metadata": {
      "needs_background": "light"
     },
     "output_type": "display_data"
    }
   ],
   "source": [
    "g = init_g(img, C, betta=20)\n",
    "plt.subplots(figsize=(10, 10))\n",
    "plt.imshow(g, cmap='gray')"
   ]
  },
  {
   "cell_type": "markdown",
   "metadata": {},
   "source": [
    "---"
   ]
  },
  {
   "cell_type": "code",
   "execution_count": 5,
   "metadata": {},
   "outputs": [],
   "source": [
    "#@njit\n",
    "def iteration(G, F):\n",
    "    \n",
    "    Prev = np.full(Vsize, -1) # Prev node\n",
    "    Q = [-2] # Queue\n",
    "    cursor = 0 # instead of popping elements of of the Q\n",
    "\n",
    "    while cursor < Vsize:\n",
    "\n",
    "        v_curr = Q[cursor]\n",
    "        for v_ind, capacity in enumerate( G[v_curr] ):\n",
    "            if F[v_curr, v_ind] < capacity and Prev[v_ind] == -1 and v_ind != v_curr:\n",
    "                Q.append(v_ind)\n",
    "                Prev[v_ind] = v_curr\n",
    "\n",
    "        cursor += 1\n",
    "        if cursor >= len(Q) : break\n",
    "\n",
    "    # path reconstruction\n",
    "    v_curr = Vsize - 1\n",
    "    path = [v_curr]\n",
    "    while True:\n",
    "        v_prev = Prev[v_curr]\n",
    "        v_curr = v_prev\n",
    "        if v_curr == -1 : break\n",
    "        path.append(v_curr)\n",
    "\n",
    "    path = path[::-1]\n",
    "    \n",
    "    \n",
    "    \n",
    "    # path bottleneck\n",
    "    bottleneck = np.inf # float('inf') doesn't work with numba\n",
    "    for i in range(len(path) - 1):\n",
    "        v_curr = path[i]\n",
    "        v_next = path[i+1]\n",
    "\n",
    "        local_w = G[v_curr, v_next] - F_[v_curr, v_next]\n",
    "        if local_w < bottleneck: \n",
    "            bottleneck = local_w\n",
    "    if bottleneck == np.inf : return F, True\n",
    "    \n",
    "    print(\"path: \", path, \" | bottleneck: \", bottleneck)\n",
    "    \n",
    "    # path flow update\n",
    "    for i in range(len(path) - 1):\n",
    "        v_curr = path[i]\n",
    "        v_next = path[i+1]\n",
    "\n",
    "        F[v_curr, v_next] += bottleneck\n",
    "        \n",
    "    \n",
    "    #print('')\n",
    "    #print('----- New iteration -----')\n",
    "    #show_path(path, V)\n",
    "    #print('Bottleneck is: ', bottleneck)\n",
    "    \n",
    "    return F, False"
   ]
  },
  {
   "cell_type": "code",
   "execution_count": 6,
   "metadata": {},
   "outputs": [],
   "source": [
    "h, w = img.shape[:2]\n",
    "csize = C.size\n",
    "Vsize = h*w*csize + 2\n",
    "\n",
    "F_ = np.zeros((Vsize, Vsize)) # Current flow"
   ]
  },
  {
   "cell_type": "code",
   "execution_count": 7,
   "metadata": {},
   "outputs": [
    {
     "name": "stdout",
     "output_type": "stream",
     "text": [
      "path:  [-2, 0, 1, 2, 28]  | bottleneck:  29.0\n",
      "path:  [-2, 3, 4, 5, 28]  | bottleneck:  60.0\n",
      "path:  [-2, 6, 7, 8, 28]  | bottleneck:  26.0\n",
      "path:  [-2, 9, 10, 11, 28]  | bottleneck:  26.0\n",
      "path:  [-2, 12, 13, 14, 28]  | bottleneck:  27.0\n",
      "path:  [-2, 15, 16, 17, 28]  | bottleneck:  30.0\n",
      "path:  [-2, 18, 19, 20, 28]  | bottleneck:  51.0\n",
      "path:  [-2, 21, 22, 23, 28]  | bottleneck:  6.0\n",
      "path:  [-2, 24, 25, 26, 28]  | bottleneck:  7.0\n",
      "path:  [-2, 9, 10, 19, 20, 28]  | bottleneck:  20.0\n",
      "path:  [-2, 15, 16, 19, 20, 28]  | bottleneck:  6.0\n",
      "MaxFlow is:  288.0\n"
     ]
    }
   ],
   "source": [
    "while True:\n",
    "        F_, end = iteration(g, F_)\n",
    "        if end : break\n",
    "print('MaxFlow is: ', sum(F_[:, -1]))"
   ]
  },
  {
   "cell_type": "code",
   "execution_count": null,
   "metadata": {},
   "outputs": [],
   "source": []
  },
  {
   "cell_type": "code",
   "execution_count": null,
   "metadata": {},
   "outputs": [],
   "source": []
  }
 ],
 "metadata": {
  "kernelspec": {
   "display_name": "Python 3",
   "language": "python",
   "name": "python3"
  },
  "language_info": {
   "codemirror_mode": {
    "name": "ipython",
    "version": 3
   },
   "file_extension": ".py",
   "mimetype": "text/x-python",
   "name": "python",
   "nbconvert_exporter": "python",
   "pygments_lexer": "ipython3",
   "version": "3.8.8"
  }
 },
 "nbformat": 4,
 "nbformat_minor": 4
}
