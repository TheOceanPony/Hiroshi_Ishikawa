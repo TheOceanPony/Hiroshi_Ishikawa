{
 "cells": [
  {
   "cell_type": "code",
   "execution_count": 1,
   "id": "4b4c7ff5",
   "metadata": {},
   "outputs": [],
   "source": [
    "import copy\n",
    "import numpy as np\n",
    "\n",
    "from numpy.random import shuffle\n",
    "import matplotlib.pyplot as plt\n",
    "from tqdm import tqdm\n",
    "\n",
    "import funcs as f\n",
    "import utils as utl"
   ]
  },
  {
   "cell_type": "code",
   "execution_count": 2,
   "id": "9ddd9517",
   "metadata": {},
   "outputs": [],
   "source": [
    "def show(G):\n",
    "    \n",
    "    tmp = 'X | '\n",
    "    for v in V:\n",
    "        tmp += ' ' + v + ' '\n",
    "    \n",
    "    print(tmp)\n",
    "    print('')\n",
    "    \n",
    "    for row in range(len(V)):\n",
    "        \n",
    "        tmp = V[row] + ' | '\n",
    "        for col in range(Vsize):\n",
    "            \n",
    "            if G[row][col] == np.inf:\n",
    "                tmp +=  ' i '\n",
    "            else:\n",
    "                w = int(G[row][col])\n",
    "                if w == 0:\n",
    "                    tmp +=  \" - \"\n",
    "                else:\n",
    "                    if w < 10 : tmp +=  ' ' + str(w) + ' '\n",
    "                    if 10 <= w < 100 : tmp +=  ' ' + str(w)\n",
    "\n",
    "            \n",
    "        print(tmp)"
   ]
  },
  {
   "cell_type": "markdown",
   "id": "66fd39ba",
   "metadata": {},
   "source": [
    "![title](test_one.jpg)"
   ]
  },
  {
   "cell_type": "code",
   "execution_count": 3,
   "id": "7ed3311d",
   "metadata": {},
   "outputs": [],
   "source": [
    "# |V| = |{S,E}| + |T|*|K| = 2 + 4*2 = 10\n",
    "Vsize = 6\n",
    "Esize = 9\n",
    "\n",
    "#     0    1    2    3    4    5 \n",
    "V = ['S', 'a', 'b', 'c', 'd', 'E']"
   ]
  },
  {
   "cell_type": "code",
   "execution_count": 116,
   "id": "c3cc2b34",
   "metadata": {},
   "outputs": [],
   "source": [
    "g = np.zeros((Vsize,Vsize), dtype=np.float32)\n",
    "# S\n",
    "g[0][1] = np.inf \n",
    "\n",
    "# a\n",
    "g[1][2] = 5  #q_t(k)\n",
    "\n",
    "# b\n",
    "g[2][3] = 20\n",
    "g[2][1] = np.inf\n",
    "\n",
    "\n",
    "#c\n",
    "g[3][4] = 5  #q_t(k)\n",
    "g[3][2] = np.inf\n",
    "\n",
    "#d\n",
    "g[4][5] = 90  #q_t(k)\n",
    "g[4][3] = np.inf"
   ]
  },
  {
   "cell_type": "code",
   "execution_count": 117,
   "id": "20f90ddb",
   "metadata": {},
   "outputs": [
    {
     "name": "stdout",
     "output_type": "stream",
     "text": [
      "X |  S  a  b  c  d  E \n",
      "\n",
      "S |  -  i  -  -  -  - \n",
      "a |  -  -  5  -  -  - \n",
      "b |  -  i  -  20 -  - \n",
      "c |  -  -  i  -  5  - \n",
      "d |  -  -  -  i  -  90\n",
      "E |  -  -  -  -  -  - \n"
     ]
    }
   ],
   "source": [
    "show(g)"
   ]
  },
  {
   "cell_type": "code",
   "execution_count": 118,
   "id": "53058cf1",
   "metadata": {},
   "outputs": [
    {
     "data": {
      "text/plain": [
       "8"
      ]
     },
     "execution_count": 118,
     "metadata": {},
     "output_type": "execute_result"
    }
   ],
   "source": [
    "g[g > 0].size # Esize"
   ]
  },
  {
   "cell_type": "markdown",
   "id": "6c37718a",
   "metadata": {},
   "source": [
    "---"
   ]
  },
  {
   "cell_type": "code",
   "execution_count": 119,
   "id": "53157b65",
   "metadata": {},
   "outputs": [],
   "source": [
    "#@njit\n",
    "def iteration(G, F, V, _inf=np.inf):\n",
    "    \n",
    "    Prev = np.full(Vsize, -1) # Prev node\n",
    "    Q = [0] # Queue\n",
    "    cursor = 0 # instead of popping elements of of the Q\n",
    "\n",
    "    while cursor < Vsize:\n",
    "\n",
    "        v_curr = Q[cursor]\n",
    "        for v_ind, capacity in enumerate( G[v_curr] ):\n",
    "            if F[v_curr, v_ind] < capacity and Prev[v_ind] == -1 and v_ind != v_curr:\n",
    "                Q.append(v_ind)\n",
    "                Prev[v_ind] = v_curr\n",
    "\n",
    "        cursor += 1\n",
    "        if cursor >= len(Q) : break\n",
    "\n",
    "    # path reconstruction\n",
    "    v_curr = Vsize - 1\n",
    "    path = [v_curr]\n",
    "    while True:\n",
    "        v_prev = Prev[v_curr]\n",
    "        v_curr = v_prev\n",
    "        if v_curr == -1 : break\n",
    "        path.append(v_curr)\n",
    "\n",
    "    path = path[::-1]\n",
    "    print(path)\n",
    "    \n",
    "    \n",
    "    # path bottleneck\n",
    "    bottleneck = _inf # float('inf') doesn't work with numba\n",
    "    for i in range(len(path) - 1):\n",
    "        v_curr = path[i]\n",
    "        v_next = path[i+1]\n",
    "\n",
    "        if G[v_curr, v_next] < bottleneck: \n",
    "            bottleneck = G[v_curr, v_next]\n",
    "    if bottleneck == _inf : return F, True\n",
    "    \n",
    "    \n",
    "    # path flow update\n",
    "    for i in range(len(path) - 1):\n",
    "        v_curr = path[i]\n",
    "        v_next = path[i+1]\n",
    "\n",
    "        F[v_curr, v_next] += bottleneck\n",
    "        \n",
    "    \n",
    "    #print('')\n",
    "    #print('----- New iteration -----')\n",
    "    #show_path(path, V)\n",
    "    #print('Bottleneck is: ', bottleneck)\n",
    "    \n",
    "    return F, False"
   ]
  },
  {
   "cell_type": "code",
   "execution_count": 120,
   "id": "f49ff7ea",
   "metadata": {},
   "outputs": [],
   "source": [
    "Vsize = g.shape[0]\n",
    "F_ = np.zeros((Vsize, Vsize)) # Current flow"
   ]
  },
  {
   "cell_type": "code",
   "execution_count": 121,
   "id": "3ca80f25",
   "metadata": {},
   "outputs": [
    {
     "name": "stdout",
     "output_type": "stream",
     "text": [
      "[0, 1, 2, 3, 4, 5]\n",
      "[5]\n",
      "MaxFlow is:  5.0\n"
     ]
    }
   ],
   "source": [
    "while True:\n",
    "        F_, end = iteration(g, F_, V)\n",
    "        if end : break\n",
    "            \n",
    "print('MaxFlow is: ', sum(F_[:, -1]))"
   ]
  },
  {
   "cell_type": "code",
   "execution_count": 122,
   "id": "1acb4a6b",
   "metadata": {},
   "outputs": [
    {
     "name": "stdout",
     "output_type": "stream",
     "text": [
      "X |  S  a  b  c  d  E \n",
      "\n",
      "S |  -  i  -  -  -  - \n",
      "a |  -  -  5  -  -  - \n",
      "b |  -  i  -  20 -  - \n",
      "c |  -  -  i  -  5  - \n",
      "d |  -  -  -  i  -  90\n",
      "E |  -  -  -  -  -  - \n"
     ]
    }
   ],
   "source": [
    "show(g)"
   ]
  },
  {
   "cell_type": "code",
   "execution_count": 123,
   "id": "a0b10407",
   "metadata": {},
   "outputs": [
    {
     "name": "stdout",
     "output_type": "stream",
     "text": [
      "X |  S  a  b  c  d  E \n",
      "\n",
      "S |  -  5  -  -  -  - \n",
      "a |  -  -  5  -  -  - \n",
      "b |  -  -  -  5  -  - \n",
      "c |  -  -  -  -  5  - \n",
      "d |  -  -  -  -  -  5 \n",
      "E |  -  -  -  -  -  - \n"
     ]
    }
   ],
   "source": [
    "show(F_)"
   ]
  },
  {
   "cell_type": "markdown",
   "id": "17f21127",
   "metadata": {},
   "source": [
    "## MinCut"
   ]
  },
  {
   "cell_type": "code",
   "execution_count": 124,
   "id": "af59633b",
   "metadata": {},
   "outputs": [],
   "source": [
    "# BFS\n",
    "Prev = np.full(Vsize, -1) # Prev node\n",
    "Q = [0] # Queue\n",
    "cursor = 0 # instead of popping elements of of the Q\n",
    "\n",
    "while True:\n",
    "\n",
    "    v_curr = Q[cursor]\n",
    "    for v_ind, capacity in enumerate( g[v_curr] ):\n",
    "        if 0 < F_[v_curr][v_ind] < capacity and Prev[v_ind] == -1 and v_ind != v_curr:\n",
    "            Q.append(v_ind)\n",
    "            Prev[v_ind] = v_curr\n",
    "    \n",
    "    cursor += 1\n",
    "    if cursor >= len(Q) : break"
   ]
  },
  {
   "cell_type": "code",
   "execution_count": 125,
   "id": "c9687658",
   "metadata": {},
   "outputs": [
    {
     "data": {
      "text/plain": [
       "[0, 1]"
      ]
     },
     "execution_count": 125,
     "metadata": {},
     "output_type": "execute_result"
    }
   ],
   "source": [
    "# S a b c d E\n",
    "# 0 1 2 3 4 5\n",
    "Q"
   ]
  },
  {
   "cell_type": "code",
   "execution_count": null,
   "id": "5b1af875",
   "metadata": {},
   "outputs": [],
   "source": []
  }
 ],
 "metadata": {
  "kernelspec": {
   "display_name": "Python 3",
   "language": "python",
   "name": "python3"
  },
  "language_info": {
   "codemirror_mode": {
    "name": "ipython",
    "version": 3
   },
   "file_extension": ".py",
   "mimetype": "text/x-python",
   "name": "python",
   "nbconvert_exporter": "python",
   "pygments_lexer": "ipython3",
   "version": "3.8.8"
  }
 },
 "nbformat": 4,
 "nbformat_minor": 5
}
